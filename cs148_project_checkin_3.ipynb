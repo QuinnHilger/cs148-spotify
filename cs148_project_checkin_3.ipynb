{
 "cells": [
  {
   "cell_type": "markdown",
   "metadata": {},
   "source": [
    "## Here are some explanations relating to the numbered questions:"
   ]
  },
  {
   "cell_type": "markdown",
   "metadata": {},
   "source": [
    "1. We chose 'Learning_Disabilities' as our binary categorical response variable. Its values are 'Yes' and 'No'\n",
    "\n",
    "2. We chose 'Exam_Score' as our predictor varriable. We expect to see some sort of negative correlation, which means that, as Exam_Score increases, the likelihood of Learning_Disabilities being 'Yes' should decrease.\n",
    "\n",
    "3. See code\n",
    "4. See code\n",
    "\n",
    "5. We initially ran the code with the default threshold of 0.5. We then tested lower thresholds to see if they would improve the model's ability to identify a Positive case. Upon testing the lower thresholds, the accuracy of the model fell significantly. So, we decided to proceed with the default threshold and our model obtained an accuracy of roughly 89%. This is a great metric, but it is worth noting that the model had a TPR of 0.0 and a TNR of 1.0, meaning that the model simply predicted 'No' for all cases of having a 'Learning Disability.' This speaks a lot towards the skew of the dataset, as the model technically performed well despite making the same, majority based decision for all data points. As the correlation between our predictor and response variable was quite slight (around -0.08), it makes sense that the model chose a blanket answer to predict the majority of cases.\n",
    "This dataset just simply does not have great binary categorical options, and more data points with a learning disability would help to test the model more rigorously."
   ]
  },
  {
   "cell_type": "code",
   "execution_count": 47,
   "metadata": {},
   "outputs": [],
   "source": [
    "import pandas as pd\n",
    "import numpy as np\n",
    "import plotly.express as px\n",
    "import plotly.graph_objects as go\n",
    "import matplotlib.pyplot as plt\n",
    "from sklearn.model_selection import train_test_split, StratifiedKFold, cross_val_score\n",
    "from sklearn.metrics import confusion_matrix, accuracy_score, recall_score, roc_curve,roc_auc_score\n",
    "\n",
    "from scipy.stats import pointbiserialr\n",
    "from sklearn.linear_model import LogisticRegression\n",
    "\n",
    "complete_data = pd.read_csv(\"StudentPerformanceFactors.csv\")"
   ]
  },
  {
   "cell_type": "code",
   "execution_count": 48,
   "metadata": {},
   "outputs": [
    {
     "name": "stdout",
     "output_type": "stream",
     "text": [
      "NaNs in Learning_Disabilities: 0\n",
      "NaNs in Exam_Score: 0\n",
      "Infs in Learning_Disabilities: 0\n",
      "Infs in Exam_Score: 0\n"
     ]
    },
    {
     "name": "stderr",
     "output_type": "stream",
     "text": [
      "/var/folders/vr/yszrj_f122dgsclzbdjw7d_r0000gn/T/ipykernel_76580/2741554328.py:15: SettingWithCopyWarning:\n",
      "\n",
      "\n",
      "A value is trying to be set on a copy of a slice from a DataFrame.\n",
      "Try using .loc[row_indexer,col_indexer] = value instead\n",
      "\n",
      "See the caveats in the documentation: https://pandas.pydata.org/pandas-docs/stable/user_guide/indexing.html#returning-a-view-versus-a-copy\n",
      "\n"
     ]
    }
   ],
   "source": [
    "# First, take code from previous check-in to clean the data to have our get our updated data frame\n",
    "# Although during this regression modeling, we will only use a subset of these rows, they are all included to create our training, validation, and test data sets\\\n",
    "# These are the features we selected at the beginning of the project to use in our modeling\n",
    "\n",
    "# 1) \"Learning_Disabilities\" is a binary feature, so we'll use this as our response variable\n",
    "# 2) We'll be using \"Exam_Score\" as our predictor for this classification model\n",
    "\n",
    "#putting column name in a variable for now cuz idk which were using\n",
    "predictor_variable = \"Exam_Score\"\n",
    "response_variable = 'Learning_Disabilities'\n",
    "main_features = [response_variable, predictor_variable]\n",
    "data = complete_data[main_features]\n",
    "\n",
    "# making the response variable have a binary encoding\n",
    "data[response_variable] = data[response_variable].map({'No': 0, 'Yes': 1})\n",
    "\n",
    "# Check to see if data cleaning needed\n",
    "nans_response = data[response_variable].isnull().sum()\n",
    "print(f\"NaNs in {response_variable}: {nans_response}\")\n",
    "\n",
    "nans_predictor = data[predictor_variable].isnull().sum()\n",
    "print(f\"NaNs in {predictor_variable}: {nans_predictor}\")\n",
    "\n",
    "infs_response = np.isinf(data[response_variable]).sum()\n",
    "print(f\"Infs in {response_variable}: {infs_response}\")\n",
    "\n",
    "infs_predictor = np.isinf(data[predictor_variable]).sum()\n",
    "print(f\"Infs in {predictor_variable}: {infs_predictor}\")\n"
   ]
  },
  {
   "cell_type": "code",
   "execution_count": 49,
   "metadata": {},
   "outputs": [],
   "source": [
    "# using the same code from the previous check-in, we'll split the data into training, validation, and test sets\n",
    "# Next, divide the new dataframe into 3 different data sets using a 60:20:20 split\n",
    "# We chose 60:20:20 as opposed to 80:10:10 or somwhere in between to decrease the liklihood of overfitting, since the metrics used are potentially subseptible to overfitting\n",
    "\n",
    "\n",
    "train_and_validation_df, test_df = train_test_split(data, test_size=0.2, random_state=42)\n",
    "\n",
    "train_df, validation_df = train_test_split(train_and_validation_df, test_size=0.25, random_state=42)\n",
    "\n",
    "train_df.to_csv('Student_Performance_train.csv', index=False)\n",
    "validation_df.to_csv('Student_Performance_validation.csv', index=False)\n",
    "test_df.to_csv('Student_Performance_test.csv', index=False)"
   ]
  },
  {
   "cell_type": "code",
   "execution_count": 50,
   "metadata": {},
   "outputs": [
    {
     "name": "stdout",
     "output_type": "stream",
     "text": [
      "Train Correlation: -0.08261872057924036\n",
      "Validation Correlation: -0.11811433308237178\n",
      "Test Correlation: -0.053195325028898434\n"
     ]
    }
   ],
   "source": [
    "## calculate correlation between our two variables using the testing set\n",
    "\n",
    "corr_coef, _ = pointbiserialr(train_df[response_variable], train_df[predictor_variable])\n",
    "\n",
    "print(\"Train Correlation:\", corr_coef)\n",
    "\n",
    "## calculate correlation between our two variables using the validation set\n",
    "\n",
    "corr_coef, _ = pointbiserialr(validation_df[response_variable], validation_df[predictor_variable])\n",
    "\n",
    "print(\"Validation Correlation:\", corr_coef)\n",
    "\n",
    "## calculate correlation between our two variables using the test set\n",
    "\n",
    "corr_coef, _ = pointbiserialr(test_df[response_variable], test_df[predictor_variable])\n",
    "\n",
    "print(\"Test Correlation:\", corr_coef)"
   ]
  },
  {
   "cell_type": "code",
   "execution_count": 51,
   "metadata": {},
   "outputs": [
    {
     "name": "stdout",
     "output_type": "stream",
     "text": [
      "[[3526    0]\n",
      " [ 437    0]]\n",
      "Accuracy: 0.8897300025233409\n",
      "Prediction Error: 0.11026999747665911\n",
      "True Positive Rate (TPR): 0.0\n",
      "True Negative Rate (TNR): 1.0\n",
      "AUC Scores for each fold: [0.52060199 0.68205728 0.64921308 0.58327219 0.65495231]\n",
      "Average AUC: 0.6180193686835939\n",
      "Accuracy Scores for each fold: [0.89056604 0.89056604 0.89393939 0.89015152 0.89015152]\n",
      "Average Accuracy: 0.8910748999428245\n"
     ]
    },
    {
     "data": {
      "application/vnd.plotly.v1+json": {
       "config": {
        "plotlyServerURL": "https://plot.ly"
       },
       "data": [
        {
         "mode": "lines",
         "name": "ROC Curve (AUC = 0.62)",
         "type": "scatter",
         "x": [
          0,
          0.0008488964346349745,
          0.0008488964346349745,
          0.0025466893039049238,
          0.007640067911714771,
          0.015280135823429542,
          0.042444821731748725,
          0.07470288624787776,
          0.12224108658743633,
          0.19864176570458403,
          0.29796264855687604,
          0.4202037351443124,
          0.5373514431239389,
          0.6477079796264855,
          0.7580645161290323,
          0.8404074702886248,
          0.8955857385398981,
          0.9371816638370118,
          0.9567062818336163,
          0.9787775891341256,
          0.9864176570458404,
          0.9898132427843803,
          0.9906621392190152,
          0.9906621392190152,
          0.9923599320882852,
          0.9923599320882852,
          0.9940577249575552,
          0.9957555178268251,
          0.9974533106960951,
          1
         ],
         "y": [
          0,
          0,
          0.006944444444444444,
          0.006944444444444444,
          0.041666666666666664,
          0.0763888888888889,
          0.1111111111111111,
          0.16666666666666666,
          0.25,
          0.3611111111111111,
          0.4305555555555556,
          0.5833333333333334,
          0.7013888888888888,
          0.8055555555555556,
          0.8611111111111112,
          0.9097222222222222,
          0.9375,
          0.9722222222222222,
          0.9791666666666666,
          0.9861111111111112,
          0.9861111111111112,
          0.9861111111111112,
          0.9861111111111112,
          0.9930555555555556,
          0.9930555555555556,
          1,
          1,
          1,
          1,
          1
         ]
        },
        {
         "line": {
          "dash": "dash"
         },
         "mode": "lines",
         "name": "Random",
         "type": "scatter",
         "x": [
          0,
          1
         ],
         "y": [
          0,
          1
         ]
        }
       ],
       "layout": {
        "showlegend": true,
        "template": {
         "data": {
          "bar": [
           {
            "error_x": {
             "color": "#2a3f5f"
            },
            "error_y": {
             "color": "#2a3f5f"
            },
            "marker": {
             "line": {
              "color": "#E5ECF6",
              "width": 0.5
             },
             "pattern": {
              "fillmode": "overlay",
              "size": 10,
              "solidity": 0.2
             }
            },
            "type": "bar"
           }
          ],
          "barpolar": [
           {
            "marker": {
             "line": {
              "color": "#E5ECF6",
              "width": 0.5
             },
             "pattern": {
              "fillmode": "overlay",
              "size": 10,
              "solidity": 0.2
             }
            },
            "type": "barpolar"
           }
          ],
          "carpet": [
           {
            "aaxis": {
             "endlinecolor": "#2a3f5f",
             "gridcolor": "white",
             "linecolor": "white",
             "minorgridcolor": "white",
             "startlinecolor": "#2a3f5f"
            },
            "baxis": {
             "endlinecolor": "#2a3f5f",
             "gridcolor": "white",
             "linecolor": "white",
             "minorgridcolor": "white",
             "startlinecolor": "#2a3f5f"
            },
            "type": "carpet"
           }
          ],
          "choropleth": [
           {
            "colorbar": {
             "outlinewidth": 0,
             "ticks": ""
            },
            "type": "choropleth"
           }
          ],
          "contour": [
           {
            "colorbar": {
             "outlinewidth": 0,
             "ticks": ""
            },
            "colorscale": [
             [
              0,
              "#0d0887"
             ],
             [
              0.1111111111111111,
              "#46039f"
             ],
             [
              0.2222222222222222,
              "#7201a8"
             ],
             [
              0.3333333333333333,
              "#9c179e"
             ],
             [
              0.4444444444444444,
              "#bd3786"
             ],
             [
              0.5555555555555556,
              "#d8576b"
             ],
             [
              0.6666666666666666,
              "#ed7953"
             ],
             [
              0.7777777777777778,
              "#fb9f3a"
             ],
             [
              0.8888888888888888,
              "#fdca26"
             ],
             [
              1,
              "#f0f921"
             ]
            ],
            "type": "contour"
           }
          ],
          "contourcarpet": [
           {
            "colorbar": {
             "outlinewidth": 0,
             "ticks": ""
            },
            "type": "contourcarpet"
           }
          ],
          "heatmap": [
           {
            "colorbar": {
             "outlinewidth": 0,
             "ticks": ""
            },
            "colorscale": [
             [
              0,
              "#0d0887"
             ],
             [
              0.1111111111111111,
              "#46039f"
             ],
             [
              0.2222222222222222,
              "#7201a8"
             ],
             [
              0.3333333333333333,
              "#9c179e"
             ],
             [
              0.4444444444444444,
              "#bd3786"
             ],
             [
              0.5555555555555556,
              "#d8576b"
             ],
             [
              0.6666666666666666,
              "#ed7953"
             ],
             [
              0.7777777777777778,
              "#fb9f3a"
             ],
             [
              0.8888888888888888,
              "#fdca26"
             ],
             [
              1,
              "#f0f921"
             ]
            ],
            "type": "heatmap"
           }
          ],
          "heatmapgl": [
           {
            "colorbar": {
             "outlinewidth": 0,
             "ticks": ""
            },
            "colorscale": [
             [
              0,
              "#0d0887"
             ],
             [
              0.1111111111111111,
              "#46039f"
             ],
             [
              0.2222222222222222,
              "#7201a8"
             ],
             [
              0.3333333333333333,
              "#9c179e"
             ],
             [
              0.4444444444444444,
              "#bd3786"
             ],
             [
              0.5555555555555556,
              "#d8576b"
             ],
             [
              0.6666666666666666,
              "#ed7953"
             ],
             [
              0.7777777777777778,
              "#fb9f3a"
             ],
             [
              0.8888888888888888,
              "#fdca26"
             ],
             [
              1,
              "#f0f921"
             ]
            ],
            "type": "heatmapgl"
           }
          ],
          "histogram": [
           {
            "marker": {
             "pattern": {
              "fillmode": "overlay",
              "size": 10,
              "solidity": 0.2
             }
            },
            "type": "histogram"
           }
          ],
          "histogram2d": [
           {
            "colorbar": {
             "outlinewidth": 0,
             "ticks": ""
            },
            "colorscale": [
             [
              0,
              "#0d0887"
             ],
             [
              0.1111111111111111,
              "#46039f"
             ],
             [
              0.2222222222222222,
              "#7201a8"
             ],
             [
              0.3333333333333333,
              "#9c179e"
             ],
             [
              0.4444444444444444,
              "#bd3786"
             ],
             [
              0.5555555555555556,
              "#d8576b"
             ],
             [
              0.6666666666666666,
              "#ed7953"
             ],
             [
              0.7777777777777778,
              "#fb9f3a"
             ],
             [
              0.8888888888888888,
              "#fdca26"
             ],
             [
              1,
              "#f0f921"
             ]
            ],
            "type": "histogram2d"
           }
          ],
          "histogram2dcontour": [
           {
            "colorbar": {
             "outlinewidth": 0,
             "ticks": ""
            },
            "colorscale": [
             [
              0,
              "#0d0887"
             ],
             [
              0.1111111111111111,
              "#46039f"
             ],
             [
              0.2222222222222222,
              "#7201a8"
             ],
             [
              0.3333333333333333,
              "#9c179e"
             ],
             [
              0.4444444444444444,
              "#bd3786"
             ],
             [
              0.5555555555555556,
              "#d8576b"
             ],
             [
              0.6666666666666666,
              "#ed7953"
             ],
             [
              0.7777777777777778,
              "#fb9f3a"
             ],
             [
              0.8888888888888888,
              "#fdca26"
             ],
             [
              1,
              "#f0f921"
             ]
            ],
            "type": "histogram2dcontour"
           }
          ],
          "mesh3d": [
           {
            "colorbar": {
             "outlinewidth": 0,
             "ticks": ""
            },
            "type": "mesh3d"
           }
          ],
          "parcoords": [
           {
            "line": {
             "colorbar": {
              "outlinewidth": 0,
              "ticks": ""
             }
            },
            "type": "parcoords"
           }
          ],
          "pie": [
           {
            "automargin": true,
            "type": "pie"
           }
          ],
          "scatter": [
           {
            "fillpattern": {
             "fillmode": "overlay",
             "size": 10,
             "solidity": 0.2
            },
            "type": "scatter"
           }
          ],
          "scatter3d": [
           {
            "line": {
             "colorbar": {
              "outlinewidth": 0,
              "ticks": ""
             }
            },
            "marker": {
             "colorbar": {
              "outlinewidth": 0,
              "ticks": ""
             }
            },
            "type": "scatter3d"
           }
          ],
          "scattercarpet": [
           {
            "marker": {
             "colorbar": {
              "outlinewidth": 0,
              "ticks": ""
             }
            },
            "type": "scattercarpet"
           }
          ],
          "scattergeo": [
           {
            "marker": {
             "colorbar": {
              "outlinewidth": 0,
              "ticks": ""
             }
            },
            "type": "scattergeo"
           }
          ],
          "scattergl": [
           {
            "marker": {
             "colorbar": {
              "outlinewidth": 0,
              "ticks": ""
             }
            },
            "type": "scattergl"
           }
          ],
          "scattermapbox": [
           {
            "marker": {
             "colorbar": {
              "outlinewidth": 0,
              "ticks": ""
             }
            },
            "type": "scattermapbox"
           }
          ],
          "scatterpolar": [
           {
            "marker": {
             "colorbar": {
              "outlinewidth": 0,
              "ticks": ""
             }
            },
            "type": "scatterpolar"
           }
          ],
          "scatterpolargl": [
           {
            "marker": {
             "colorbar": {
              "outlinewidth": 0,
              "ticks": ""
             }
            },
            "type": "scatterpolargl"
           }
          ],
          "scatterternary": [
           {
            "marker": {
             "colorbar": {
              "outlinewidth": 0,
              "ticks": ""
             }
            },
            "type": "scatterternary"
           }
          ],
          "surface": [
           {
            "colorbar": {
             "outlinewidth": 0,
             "ticks": ""
            },
            "colorscale": [
             [
              0,
              "#0d0887"
             ],
             [
              0.1111111111111111,
              "#46039f"
             ],
             [
              0.2222222222222222,
              "#7201a8"
             ],
             [
              0.3333333333333333,
              "#9c179e"
             ],
             [
              0.4444444444444444,
              "#bd3786"
             ],
             [
              0.5555555555555556,
              "#d8576b"
             ],
             [
              0.6666666666666666,
              "#ed7953"
             ],
             [
              0.7777777777777778,
              "#fb9f3a"
             ],
             [
              0.8888888888888888,
              "#fdca26"
             ],
             [
              1,
              "#f0f921"
             ]
            ],
            "type": "surface"
           }
          ],
          "table": [
           {
            "cells": {
             "fill": {
              "color": "#EBF0F8"
             },
             "line": {
              "color": "white"
             }
            },
            "header": {
             "fill": {
              "color": "#C8D4E3"
             },
             "line": {
              "color": "white"
             }
            },
            "type": "table"
           }
          ]
         },
         "layout": {
          "annotationdefaults": {
           "arrowcolor": "#2a3f5f",
           "arrowhead": 0,
           "arrowwidth": 1
          },
          "autotypenumbers": "strict",
          "coloraxis": {
           "colorbar": {
            "outlinewidth": 0,
            "ticks": ""
           }
          },
          "colorscale": {
           "diverging": [
            [
             0,
             "#8e0152"
            ],
            [
             0.1,
             "#c51b7d"
            ],
            [
             0.2,
             "#de77ae"
            ],
            [
             0.3,
             "#f1b6da"
            ],
            [
             0.4,
             "#fde0ef"
            ],
            [
             0.5,
             "#f7f7f7"
            ],
            [
             0.6,
             "#e6f5d0"
            ],
            [
             0.7,
             "#b8e186"
            ],
            [
             0.8,
             "#7fbc41"
            ],
            [
             0.9,
             "#4d9221"
            ],
            [
             1,
             "#276419"
            ]
           ],
           "sequential": [
            [
             0,
             "#0d0887"
            ],
            [
             0.1111111111111111,
             "#46039f"
            ],
            [
             0.2222222222222222,
             "#7201a8"
            ],
            [
             0.3333333333333333,
             "#9c179e"
            ],
            [
             0.4444444444444444,
             "#bd3786"
            ],
            [
             0.5555555555555556,
             "#d8576b"
            ],
            [
             0.6666666666666666,
             "#ed7953"
            ],
            [
             0.7777777777777778,
             "#fb9f3a"
            ],
            [
             0.8888888888888888,
             "#fdca26"
            ],
            [
             1,
             "#f0f921"
            ]
           ],
           "sequentialminus": [
            [
             0,
             "#0d0887"
            ],
            [
             0.1111111111111111,
             "#46039f"
            ],
            [
             0.2222222222222222,
             "#7201a8"
            ],
            [
             0.3333333333333333,
             "#9c179e"
            ],
            [
             0.4444444444444444,
             "#bd3786"
            ],
            [
             0.5555555555555556,
             "#d8576b"
            ],
            [
             0.6666666666666666,
             "#ed7953"
            ],
            [
             0.7777777777777778,
             "#fb9f3a"
            ],
            [
             0.8888888888888888,
             "#fdca26"
            ],
            [
             1,
             "#f0f921"
            ]
           ]
          },
          "colorway": [
           "#636efa",
           "#EF553B",
           "#00cc96",
           "#ab63fa",
           "#FFA15A",
           "#19d3f3",
           "#FF6692",
           "#B6E880",
           "#FF97FF",
           "#FECB52"
          ],
          "font": {
           "color": "#2a3f5f"
          },
          "geo": {
           "bgcolor": "white",
           "lakecolor": "white",
           "landcolor": "#E5ECF6",
           "showlakes": true,
           "showland": true,
           "subunitcolor": "white"
          },
          "hoverlabel": {
           "align": "left"
          },
          "hovermode": "closest",
          "mapbox": {
           "style": "light"
          },
          "paper_bgcolor": "white",
          "plot_bgcolor": "#E5ECF6",
          "polar": {
           "angularaxis": {
            "gridcolor": "white",
            "linecolor": "white",
            "ticks": ""
           },
           "bgcolor": "#E5ECF6",
           "radialaxis": {
            "gridcolor": "white",
            "linecolor": "white",
            "ticks": ""
           }
          },
          "scene": {
           "xaxis": {
            "backgroundcolor": "#E5ECF6",
            "gridcolor": "white",
            "gridwidth": 2,
            "linecolor": "white",
            "showbackground": true,
            "ticks": "",
            "zerolinecolor": "white"
           },
           "yaxis": {
            "backgroundcolor": "#E5ECF6",
            "gridcolor": "white",
            "gridwidth": 2,
            "linecolor": "white",
            "showbackground": true,
            "ticks": "",
            "zerolinecolor": "white"
           },
           "zaxis": {
            "backgroundcolor": "#E5ECF6",
            "gridcolor": "white",
            "gridwidth": 2,
            "linecolor": "white",
            "showbackground": true,
            "ticks": "",
            "zerolinecolor": "white"
           }
          },
          "shapedefaults": {
           "line": {
            "color": "#2a3f5f"
           }
          },
          "ternary": {
           "aaxis": {
            "gridcolor": "white",
            "linecolor": "white",
            "ticks": ""
           },
           "baxis": {
            "gridcolor": "white",
            "linecolor": "white",
            "ticks": ""
           },
           "bgcolor": "#E5ECF6",
           "caxis": {
            "gridcolor": "white",
            "linecolor": "white",
            "ticks": ""
           }
          },
          "title": {
           "x": 0.05
          },
          "xaxis": {
           "automargin": true,
           "gridcolor": "white",
           "linecolor": "white",
           "ticks": "",
           "title": {
            "standoff": 15
           },
           "zerolinecolor": "white",
           "zerolinewidth": 2
          },
          "yaxis": {
           "automargin": true,
           "gridcolor": "white",
           "linecolor": "white",
           "ticks": "",
           "title": {
            "standoff": 15
           },
           "zerolinecolor": "white",
           "zerolinewidth": 2
          }
         }
        },
        "title": {
         "text": "ROC Curve on Validation Set"
        },
        "xaxis": {
         "title": {
          "text": "False Positive Rate"
         }
        },
        "yaxis": {
         "title": {
          "text": "True Positive Rate"
         }
        }
       }
      }
     },
     "metadata": {},
     "output_type": "display_data"
    }
   ],
   "source": [
    "\n",
    "x_train = train_df[[predictor_variable]]\n",
    "y_train = train_df[response_variable]\n",
    "\n",
    "#training the model\n",
    "model = LogisticRegression()\n",
    "lr_model = model.fit(x_train, y_train)\n",
    "#making predictions\n",
    "y_pred = lr_model.predict(x_train)\n",
    "\n",
    "#calculating the confusion matrix and other metrics\n",
    "c_m = confusion_matrix(y_train, y_pred)\n",
    "print(c_m)\n",
    "\n",
    "accuracy = accuracy_score(y_train, y_pred)\n",
    "prediction_error = 1 - accuracy\n",
    "true_positive_rate = recall_score(y_train, y_pred)  # TPR\n",
    "true_negative_rate = recall_score(y_train, y_pred, pos_label=0)  # TNR\n",
    "\n",
    "print(f\"Accuracy: {accuracy}\")\n",
    "print(f\"Prediction Error: {prediction_error}\")\n",
    "print(f\"True Positive Rate (TPR): {true_positive_rate}\")\n",
    "print(f\"True Negative Rate (TNR): {true_negative_rate}\")\n",
    "\n",
    "# 5-fold cross-validation on validation set\n",
    "X_val = validation_df[[predictor_variable]]\n",
    "y_val = validation_df[response_variable]\n",
    "cv = StratifiedKFold(n_splits=5, shuffle=True, random_state=42)\n",
    "\n",
    "# calculate auc and accuracy across the folds\n",
    "auc_scores = cross_val_score(model, X_val, y_val, cv=cv, scoring='roc_auc')\n",
    "accuracy_scores = cross_val_score(model, X_val, y_val, cv=cv, scoring='accuracy')\n",
    "\n",
    "print(\"AUC Scores for each fold:\", auc_scores)\n",
    "print(\"Average AUC:\", np.mean(auc_scores))\n",
    "print(\"Accuracy Scores for each fold:\", accuracy_scores)\n",
    "print(\"Average Accuracy:\", np.mean(accuracy_scores))\n",
    "\n",
    "# plot auc curve\n",
    "model.fit(X_val, y_val)  # Fit model to validation data for ROC curve plotting\n",
    "y_val_proba = model.predict_proba(X_val)[:, 1]  # Probability of the positive class\n",
    "\n",
    "# Calculate ROC curve and AUC\n",
    "fpr, tpr, thresholds = roc_curve(y_val, y_val_proba)\n",
    "auc = roc_auc_score(y_val, y_val_proba)\n",
    "\n",
    "fig = go.Figure()\n",
    "\n",
    "fig.add_trace(go.Scatter(x=fpr, y=tpr, mode='lines', name=f'ROC Curve (AUC = {auc:.2f})'))\n",
    "fig.add_trace(go.Scatter(x=[0, 1], y=[0, 1], mode='lines', line=dict(dash='dash'), name='Random'))\n",
    "\n",
    "fig.update_layout(\n",
    "    title=\"ROC Curve on Validation Set\",\n",
    "    xaxis_title=\"False Positive Rate\",\n",
    "    yaxis_title=\"True Positive Rate\",\n",
    "    showlegend=True\n",
    ")\n",
    "\n",
    "fig.show()\n"
   ]
  },
  {
   "cell_type": "markdown",
   "metadata": {},
   "source": []
  }
 ],
 "metadata": {
  "kernelspec": {
   "display_name": "Python 3",
   "language": "python",
   "name": "python3"
  },
  "language_info": {
   "codemirror_mode": {
    "name": "ipython",
    "version": 3
   },
   "file_extension": ".py",
   "mimetype": "text/x-python",
   "name": "python",
   "nbconvert_exporter": "python",
   "pygments_lexer": "ipython3",
   "version": "3.11.4"
  }
 },
 "nbformat": 4,
 "nbformat_minor": 2
}
