{
 "cells": [
  {
   "cell_type": "markdown",
   "metadata": {},
   "source": [
    "## Here are some explanations relating to the numbered questions:"
   ]
  },
  {
   "cell_type": "markdown",
   "metadata": {},
   "source": [
    "1. Our dataset is \"StudentPerformanceFactors.csv\". We chose 'Learning_Disabilities' as our binary categorical response variable. Its values are 'Yes' and 'No'\n",
    "\n",
    "2. See code, we got the following results:\n",
    "    Confusion Matrix:\n",
    "    [[3525    1]\n",
    "    [ 433    4]]\n",
    "\n",
    "    Accuracy: 0.8904870047943477\n",
    "    Prediction Error: 0.10951299520565227\n",
    "    True Positive Rate (TPR): 0.009153318077803204\n",
    "    True Negative Rate (TNR): 0.9997163925127623\n",
    "    F1 Score: 0.01809954751131222\n",
    "\n",
    "As you can see, a similar outcome to last week's Check-In occurred. Our model simply predicts almost everything to by Negative, and since the majority of the dataset is True Negatives, this ends up being a decent method. This is seen in the 99.9% TNR.\n",
    "\n",
    "3. See code, we got the following results:\n",
    "    AUC Scores for each fold: [0.48451198 0.6037405  0.66759988 0.55671313 0.60366838]\n",
    "    Average AUC: 0.5832467748468251\n",
    "    Accuracy Scores for each fold: [0.89056604 0.88301887 0.89393939 0.88257576 0.88636364]\n",
    "    Average Accuracy: 0.8872927387078331\n",
    "\n",
    "Again, these metrics are well-created, but the data used is misleading / not the best for creating examples. However, the accuracy measures across each fold hover around the 89% mark, which is decent.\n"
   ]
  },
  {
   "cell_type": "code",
   "execution_count": 22,
   "metadata": {},
   "outputs": [],
   "source": [
    "import pandas as pd\n",
    "import numpy as np\n",
    "import plotly.express as px\n",
    "import plotly.graph_objects as go\n",
    "import matplotlib.pyplot as plt\n",
    "from sklearn.model_selection import train_test_split, StratifiedKFold, cross_val_score\n",
    "from sklearn.metrics import confusion_matrix, accuracy_score, recall_score, roc_curve, roc_auc_score, f1_score, ConfusionMatrixDisplay\n",
    "from sklearn.ensemble import RandomForestClassifier\n",
    "from sklearn.preprocessing import StandardScaler\n",
    "\n",
    "from scipy.stats import pointbiserialr\n",
    "\n",
    "complete_data = pd.read_csv(\"StudentPerformanceFactors.csv\")"
   ]
  },
  {
   "cell_type": "code",
   "execution_count": 23,
   "metadata": {},
   "outputs": [
    {
     "name": "stdout",
     "output_type": "stream",
     "text": [
      "   Hours_Studied  Attendance  Previous_Scores Parental_Involvement  \\\n",
      "0             23          84               73                  Low   \n",
      "1             19          64               59                  Low   \n",
      "2             24          98               91               Medium   \n",
      "3             29          89               98                  Low   \n",
      "4             19          92               65               Medium   \n",
      "\n",
      "  Learning_Disabilities Access_to_Resources  Tutoring_Sessions  \n",
      "0                    No                High                  0  \n",
      "1                    No              Medium                  2  \n",
      "2                    No              Medium                  2  \n",
      "3                    No              Medium                  1  \n",
      "4                    No              Medium                  3  \n",
      "0    0\n",
      "1    0\n",
      "2    1\n",
      "3    1\n",
      "4    1\n",
      "Name: Passed_Exam, dtype: int64\n",
      "   Hours_Studied  Attendance  Previous_Scores  Tutoring_Sessions  \\\n",
      "0             23          84               73                  0   \n",
      "1             19          64               59                  2   \n",
      "2             24          98               91                  2   \n",
      "3             29          89               98                  1   \n",
      "4             19          92               65                  3   \n",
      "\n",
      "   Parental_Involvement_Low  Parental_Involvement_Medium  \\\n",
      "0                      True                        False   \n",
      "1                      True                        False   \n",
      "2                     False                         True   \n",
      "3                      True                        False   \n",
      "4                     False                         True   \n",
      "\n",
      "   Access_to_Resources_Low  Access_to_Resources_Medium  \\\n",
      "0                    False                       False   \n",
      "1                    False                        True   \n",
      "2                    False                        True   \n",
      "3                    False                        True   \n",
      "4                    False                        True   \n",
      "\n",
      "   Learning_Disabilities_Yes  \n",
      "0                      False  \n",
      "1                      False  \n",
      "2                      False  \n",
      "3                      False  \n",
      "4                      False  \n"
     ]
    }
   ],
   "source": [
    "## Similar to Check-In 3, I revisited this notebook to now use 7 predictor variables instead pf 1\n",
    "main_features = ['Hours_Studied', 'Attendance', 'Previous_Scores', 'Parental_Involvement', 'Learning_Disabilities', 'Access_to_Resources', 'Tutoring_Sessions', 'Exam_Score']\n",
    "\n",
    "\n",
    "# Exam_Score will be mapped as follows using the Passed_Exam variable:\n",
    "    # If Exam_Score >= 60: Passed_Exam = 1\n",
    "    # Else: Passed_Exam = 0\n",
    "\n",
    "# Extract our main features\n",
    "data = complete_data[main_features].copy()\n",
    "pass_threshold = 70\n",
    "\n",
    "# Encode Exam_Score using pass_threshold to new Passed_Exam column\n",
    "data['Passed_Exam'] = (data['Exam_Score'] >= pass_threshold).astype(int)\n",
    "\n",
    "## split data into predictors and target, Exam_Score column no longer needed for both\n",
    "X = data.drop(['Exam_Score', 'Passed_Exam'], axis=1)\n",
    "y = data['Passed_Exam']\n",
    "\n",
    "print(X.head())\n",
    "print(y.head())\n",
    "\n",
    "\n",
    "## We need to One-Hot Encode 3 of our predictor features:\n",
    "    # Parental_Involvement [Low, Medium, High]\n",
    "    # Learning_Disability  [No, Yes]\n",
    "    # Access_to_Resources  [Low, Medium, High]\n",
    "\n",
    "categorical_features = ['Parental_Involvement', 'Access_to_Resources', 'Learning_Disabilities']\n",
    "# this drops one category from each feature to create a baseline, which helps avoid perfect collinear variables\n",
    "X_encoded = pd.get_dummies(X, columns=categorical_features, drop_first=True)\n",
    "\n",
    "print(X_encoded.head())"
   ]
  },
  {
   "cell_type": "code",
   "execution_count": 24,
   "metadata": {},
   "outputs": [
    {
     "name": "stdout",
     "output_type": "stream",
     "text": [
      "Random Forest Test Set Evaluation:\n",
      "Accuracy: 0.91\n",
      "Prediction Error: 0.09\n",
      "True Positive Rate (TPR): 0.76\n",
      "True Negative Rate (TNR): 0.97\n"
     ]
    },
    {
     "data": {
      "image/png": "[encoded data removed]",
      "text/plain": [
       "<Figure size 640x480 with 2 Axes>"
      ]
     },
     "metadata": {},
     "output_type": "display_data"
    },
    {
     "data": {
      "image/png": "[encoded data removed]",
      "text/plain": [
       "<Figure size 800x600 with 1 Axes>"
      ]
     },
     "metadata": {},
     "output_type": "display_data"
    },
    {
     "name": "stdout",
     "output_type": "stream",
     "text": [
      "Cross-Validation Results (Random Forest):\n",
      "Average AUC: 0.94\n",
      "Average Accuracy: 0.90\n"
     ]
    },
    {
     "data": {
      "text/plain": [
       "'\\n#putting column name in a variable for now cuz idk which were using\\npredictor_variable = \"Exam_Score\"\\nresponse_variable = \\'Learning_Disabilities\\'\\nmain_features = [response_variable, predictor_variable]\\ndata = complete_data[main_features]\\n\\n# making the response variable have a binary encoding\\ndata[response_variable] = data[response_variable].map({\\'No\\': 0, \\'Yes\\': 1})\\n\\n# Check to see if data cleaning needed\\nnans_response = data[response_variable].isnull().sum()\\nprint(f\"NaNs in {response_variable}: {nans_response}\")\\n\\nnans_predictor = data[predictor_variable].isnull().sum()\\nprint(f\"NaNs in {predictor_variable}: {nans_predictor}\")\\n\\ninfs_response = np.isinf(data[response_variable]).sum()\\nprint(f\"Infs in {response_variable}: {infs_response}\")\\n\\ninfs_predictor = np.isinf(data[predictor_variable]).sum()\\nprint(f\"Infs in {predictor_variable}: {infs_predictor}\")\\n'"
      ]
     },
     "execution_count": 24,
     "metadata": {},
     "output_type": "execute_result"
    }
   ],
   "source": [
    "\n",
    "# split into training and test\n",
    "X_train, X_test, y_train, y_test = train_test_split(X_encoded, y, test_size=0.2, random_state=42)\n",
    "\n",
    "# standardization\n",
    "numeric_features = ['Hours_Studied', 'Attendance', 'Previous_Scores', 'Tutoring_Sessions']\n",
    "scaler = StandardScaler()\n",
    "scaler.fit(X_train[numeric_features])\n",
    "\n",
    "X_train_scaled = X_train.copy()\n",
    "X_test_scaled = X_test.copy()\n",
    "X_train_scaled[numeric_features] = scaler.transform(X_train[numeric_features])\n",
    "X_test_scaled[numeric_features] = scaler.transform(X_test[numeric_features])\n",
    "\n",
    "rf_model = RandomForestClassifier(n_estimators=100, random_state=42)\n",
    "rf_model.fit(X_train_scaled, y_train)\n",
    "\n",
    "y_pred = rf_model.predict(X_test_scaled)\n",
    "\n",
    "# evaluation metrics\n",
    "accuracy = accuracy_score(y_test, y_pred)\n",
    "prediction_error = 1 - accuracy\n",
    "true_positive_rate = recall_score(y_test, y_pred)\n",
    "true_negative_rate = recall_score(y_test, y_pred, pos_label=0)\n",
    "\n",
    "print(\"Random Forest Test Set Evaluation:\")\n",
    "print(f\"Accuracy: {accuracy:.2f}\")\n",
    "print(f\"Prediction Error: {prediction_error:.2f}\")\n",
    "print(f\"True Positive Rate (TPR): {true_positive_rate:.2f}\")\n",
    "print(f\"True Negative Rate (TNR): {true_negative_rate:.2f}\")\n",
    "\n",
    "# make the confusion matrix\n",
    "cm = confusion_matrix(y_test, y_pred)\n",
    "disp = ConfusionMatrixDisplay(confusion_matrix=cm)\n",
    "disp.plot(cmap=plt.cm.Reds)\n",
    "plt.title(\"Confusion Matrix - Test Set (Random Forest)\")\n",
    "plt.show()\n",
    "\n",
    "## 5 fold Cross validation with RF\n",
    "skf = StratifiedKFold(n_splits=5, shuffle=True, random_state=42)\n",
    "auc_scores = []\n",
    "acc_scores = []\n",
    "\n",
    "plt.figure(figsize=(8,6))\n",
    "for i, (train_index, val_index) in enumerate(skf.split(X_train_scaled, y_train), 1):\n",
    "    X_train_fold, X_val_fold = X_train_scaled.iloc[train_index], X_train_scaled.iloc[val_index]\n",
    "    y_train_fold, y_val_fold = y_train.iloc[train_index], y_train.iloc[val_index]\n",
    "    \n",
    "    fold_rf_model = RandomForestClassifier(n_estimators=100, random_state=42)\n",
    "    fold_rf_model.fit(X_train_fold, y_train_fold)\n",
    "    \n",
    "    y_val_pred_proba = fold_rf_model.predict_proba(X_val_fold)[:, 1]\n",
    "    y_val_pred = fold_rf_model.predict(X_val_fold)\n",
    "    \n",
    "    fold_auc = roc_auc_score(y_val_fold, y_val_pred_proba)\n",
    "    fold_acc = accuracy_score(y_val_fold, y_val_pred)\n",
    "    auc_scores.append(fold_auc)\n",
    "    acc_scores.append(fold_acc)\n",
    "    \n",
    "    fpr, tpr, _ = roc_curve(y_val_fold, y_val_pred_proba)\n",
    "    plt.plot(fpr, tpr, label=f\"Fold {i} (AUC={fold_auc:.2f})\")\n",
    "\n",
    "plt.plot([0, 1], [0, 1], color='grey', linestyle='--')\n",
    "plt.xlabel(\"False Positive Rate\")\n",
    "plt.ylabel(\"True Positive Rate\")\n",
    "plt.title(\"ROC Curves for Each Fold (Random Forest)\")\n",
    "plt.legend(loc=\"lower right\")\n",
    "plt.show()\n",
    "\n",
    "print(\"Cross-Validation Results (Random Forest):\")\n",
    "print(f\"Average AUC: {np.mean(auc_scores):.2f}\")\n",
    "print(f\"Average Accuracy: {np.mean(acc_scores):.2f}\")\n",
    "\n",
    "\n",
    "\n",
    "\n",
    "'''\n",
    "#putting column name in a variable for now cuz idk which were using\n",
    "predictor_variable = \"Exam_Score\"\n",
    "response_variable = 'Learning_Disabilities'\n",
    "main_features = [response_variable, predictor_variable]\n",
    "data = complete_data[main_features]\n",
    "\n",
    "# making the response variable have a binary encoding\n",
    "data[response_variable] = data[response_variable].map({'No': 0, 'Yes': 1})\n",
    "\n",
    "# Check to see if data cleaning needed\n",
    "nans_response = data[response_variable].isnull().sum()\n",
    "print(f\"NaNs in {response_variable}: {nans_response}\")\n",
    "\n",
    "nans_predictor = data[predictor_variable].isnull().sum()\n",
    "print(f\"NaNs in {predictor_variable}: {nans_predictor}\")\n",
    "\n",
    "infs_response = np.isinf(data[response_variable]).sum()\n",
    "print(f\"Infs in {response_variable}: {infs_response}\")\n",
    "\n",
    "infs_predictor = np.isinf(data[predictor_variable]).sum()\n",
    "print(f\"Infs in {predictor_variable}: {infs_predictor}\")\n",
    "'''"
   ]
  },
  {
   "cell_type": "code",
   "execution_count": 25,
   "metadata": {},
   "outputs": [],
   "source": [
    "# using the same code from the previous check-in, we'll split the data into training, validation, and test sets\n",
    "# Next, divide the new dataframe into 3 different data sets using a 60:20:20 split\n",
    "# We chose 60:20:20 as opposed to 80:10:10 or somwhere in between to decrease the likelihood of overfitting, since the metrics used are potentially subseptible to overfitting\n",
    "\n",
    "\n",
    "train_and_validation_df, test_df = train_test_split(data, test_size=0.2, random_state=42)\n",
    "\n",
    "train_df, validation_df = train_test_split(train_and_validation_df, test_size=0.25, random_state=42)\n",
    "\n",
    "train_df.to_csv('Student_Performance_train.csv', index=False)\n",
    "validation_df.to_csv('Student_Performance_validation.csv', index=False)\n",
    "test_df.to_csv('Student_Performance_test.csv', index=False)"
   ]
  },
  {
   "cell_type": "code",
   "execution_count": 26,
   "metadata": {},
   "outputs": [
    {
     "ename": "NameError",
     "evalue": "name 'response_variable' is not defined",
     "output_type": "error",
     "traceback": [
      "\u001b[0;31m---------------------------------------------------------------------------\u001b[0m",
      "\u001b[0;31mNameError\u001b[0m                                 Traceback (most recent call last)",
      "Cell \u001b[0;32mIn[26], line 3\u001b[0m\n\u001b[1;32m      1\u001b[0m \u001b[38;5;66;03m## calculate correlation between our two variables using the testing set\u001b[39;00m\n\u001b[0;32m----> 3\u001b[0m corr_coef, _ \u001b[38;5;241m=\u001b[39m pointbiserialr(train_df[\u001b[43mresponse_variable\u001b[49m], train_df[predictor_variable])\n\u001b[1;32m      5\u001b[0m \u001b[38;5;28mprint\u001b[39m(\u001b[38;5;124m\"\u001b[39m\u001b[38;5;124mTrain Correlation:\u001b[39m\u001b[38;5;124m\"\u001b[39m, corr_coef)\n\u001b[1;32m      7\u001b[0m \u001b[38;5;66;03m## calculate correlation between our two variables using the validation set\u001b[39;00m\n",
      "\u001b[0;31mNameError\u001b[0m: name 'response_variable' is not defined"
     ]
    }
   ],
   "source": [
    "## calculate correlation between our two variables using the testing set\n",
    "\n",
    "corr_coef, _ = pointbiserialr(train_df[response_variable], train_df[predictor_variable])\n",
    "\n",
    "print(\"Train Correlation:\", corr_coef)\n",
    "\n",
    "## calculate correlation between our two variables using the validation set\n",
    "\n",
    "corr_coef, _ = pointbiserialr(validation_df[response_variable], validation_df[predictor_variable])\n",
    "\n",
    "print(\"Validation Correlation:\", corr_coef)\n",
    "\n",
    "## calculate correlation between our two variables using the test set\n",
    "\n",
    "corr_coef, _ = pointbiserialr(test_df[response_variable], test_df[predictor_variable])\n",
    "\n",
    "print(\"Test Correlation:\", corr_coef)"
   ]
  },
  {
   "cell_type": "code",
   "execution_count": null,
   "metadata": {},
   "outputs": [
    {
     "name": "stdout",
     "output_type": "stream",
     "text": [
      "Confusion Matrix:\n",
      "[[3525    1]\n",
      " [ 433    4]]\n",
      "\n",
      "Accuracy: 0.8904870047943477\n",
      "Prediction Error: 0.10951299520565227\n",
      "True Positive Rate (TPR): 0.009153318077803204\n",
      "True Negative Rate (TNR): 0.9997163925127623\n",
      "F1 Score: 0.01809954751131222\n",
      "\n",
      "AUC Scores for each fold: [0.48451198 0.6037405  0.66759988 0.55671313 0.60366838]\n",
      "Average AUC: 0.5832467748468251\n",
      "Accuracy Scores for each fold: [0.89056604 0.88301887 0.89393939 0.88257576 0.88636364]\n",
      "Average Accuracy: 0.8872927387078331\n",
      "F1 Scores for each fold: [0. 0. 0. 0. 0.]\n",
      "Average F1: 0.0\n"
     ]
    },
    {
     "data": {
      "application/vnd.plotly.v1+json": {
       "config": {
        "plotlyServerURL": "https://plot.ly"
       },
       "data": [
        {
         "mode": "lines",
         "name": "ROC Curve (AUC = 0.65)",
         "type": "scatter",
         "x": [
          0,
          0,
          0,
          0.0050933786078098476,
          0.012733446519524618,
          0.014431239388794566,
          0.06196943972835314,
          0.09422750424448217,
          0.17062818336162988,
          0.19779286926994907,
          0.3200339558573854,
          0.32173174872665533,
          0.4388794567062818,
          0.4405772495755518,
          0.5509337860780985,
          0.5925297113752123,
          0.6918505942275043,
          0.7741935483870968,
          0.8293718166383701,
          0.9397283531409168,
          0.9592529711375212,
          0.9813242784380306,
          0.9830220713073005,
          1
         ],
         "y": [
          0,
          0.006944444444444444,
          0.020833333333333332,
          0.05555555555555555,
          0.09027777777777778,
          0.09027777777777778,
          0.1736111111111111,
          0.22916666666666666,
          0.3402777777777778,
          0.375,
          0.5277777777777778,
          0.5277777777777778,
          0.6458333333333334,
          0.6458333333333334,
          0.75,
          0.7847222222222222,
          0.8541666666666666,
          0.9027777777777778,
          0.9305555555555556,
          0.9861111111111112,
          0.9930555555555556,
          1,
          1,
          1
         ]
        },
        {
         "line": {
          "dash": "dash"
         },
         "mode": "lines",
         "name": "Random",
         "type": "scatter",
         "x": [
          0,
          1
         ],
         "y": [
          0,
          1
         ]
        }
       ],
       "layout": {
        "showlegend": true,
        "template": {
         "data": {
          "bar": [
           {
            "error_x": {
             "color": "#2a3f5f"
            },
            "error_y": {
             "color": "#2a3f5f"
            },
            "marker": {
             "line": {
              "color": "#E5ECF6",
              "width": 0.5
             },
             "pattern": {
              "fillmode": "overlay",
              "size": 10,
              "solidity": 0.2
             }
            },
            "type": "bar"
           }
          ],
          "barpolar": [
           {
            "marker": {
             "line": {
              "color": "#E5ECF6",
              "width": 0.5
             },
             "pattern": {
              "fillmode": "overlay",
              "size": 10,
              "solidity": 0.2
             }
            },
            "type": "barpolar"
           }
          ],
          "carpet": [
           {
            "aaxis": {
             "endlinecolor": "#2a3f5f",
             "gridcolor": "white",
             "linecolor": "white",
             "minorgridcolor": "white",
             "startlinecolor": "#2a3f5f"
            },
            "baxis": {
             "endlinecolor": "#2a3f5f",
             "gridcolor": "white",
             "linecolor": "white",
             "minorgridcolor": "white",
             "startlinecolor": "#2a3f5f"
            },
            "type": "carpet"
           }
          ],
          "choropleth": [
           {
            "colorbar": {
             "outlinewidth": 0,
             "ticks": ""
            },
            "type": "choropleth"
           }
          ],
          "contour": [
           {
            "colorbar": {
             "outlinewidth": 0,
             "ticks": ""
            },
            "colorscale": [
             [
              0,
              "#0d0887"
             ],
             [
              0.1111111111111111,
              "#46039f"
             ],
             [
              0.2222222222222222,
              "#7201a8"
             ],
             [
              0.3333333333333333,
              "#9c179e"
             ],
             [
              0.4444444444444444,
              "#bd3786"
             ],
             [
              0.5555555555555556,
              "#d8576b"
             ],
             [
              0.6666666666666666,
              "#ed7953"
             ],
             [
              0.7777777777777778,
              "#fb9f3a"
             ],
             [
              0.8888888888888888,
              "#fdca26"
             ],
             [
              1,
              "#f0f921"
             ]
            ],
            "type": "contour"
           }
          ],
          "contourcarpet": [
           {
            "colorbar": {
             "outlinewidth": 0,
             "ticks": ""
            },
            "type": "contourcarpet"
           }
          ],
          "heatmap": [
           {
            "colorbar": {
             "outlinewidth": 0,
             "ticks": ""
            },
            "colorscale": [
             [
              0,
              "#0d0887"
             ],
             [
              0.1111111111111111,
              "#46039f"
             ],
             [
              0.2222222222222222,
              "#7201a8"
             ],
             [
              0.3333333333333333,
              "#9c179e"
             ],
             [
              0.4444444444444444,
              "#bd3786"
             ],
             [
              0.5555555555555556,
              "#d8576b"
             ],
             [
              0.6666666666666666,
              "#ed7953"
             ],
             [
              0.7777777777777778,
              "#fb9f3a"
             ],
             [
              0.8888888888888888,
              "#fdca26"
             ],
             [
              1,
              "#f0f921"
             ]
            ],
            "type": "heatmap"
           }
          ],
          "heatmapgl": [
           {
            "colorbar": {
             "outlinewidth": 0,
             "ticks": ""
            },
            "colorscale": [
             [
              0,
              "#0d0887"
             ],
             [
              0.1111111111111111,
              "#46039f"
             ],
             [
              0.2222222222222222,
              "#7201a8"
             ],
             [
              0.3333333333333333,
              "#9c179e"
             ],
             [
              0.4444444444444444,
              "#bd3786"
             ],
             [
              0.5555555555555556,
              "#d8576b"
             ],
             [
              0.6666666666666666,
              "#ed7953"
             ],
             [
              0.7777777777777778,
              "#fb9f3a"
             ],
             [
              0.8888888888888888,
              "#fdca26"
             ],
             [
              1,
              "#f0f921"
             ]
            ],
            "type": "heatmapgl"
           }
          ],
          "histogram": [
           {
            "marker": {
             "pattern": {
              "fillmode": "overlay",
              "size": 10,
              "solidity": 0.2
             }
            },
            "type": "histogram"
           }
          ],
          "histogram2d": [
           {
            "colorbar": {
             "outlinewidth": 0,
             "ticks": ""
            },
            "colorscale": [
             [
              0,
              "#0d0887"
             ],
             [
              0.1111111111111111,
              "#46039f"
             ],
             [
              0.2222222222222222,
              "#7201a8"
             ],
             [
              0.3333333333333333,
              "#9c179e"
             ],
             [
              0.4444444444444444,
              "#bd3786"
             ],
             [
              0.5555555555555556,
              "#d8576b"
             ],
             [
              0.6666666666666666,
              "#ed7953"
             ],
             [
              0.7777777777777778,
              "#fb9f3a"
             ],
             [
              0.8888888888888888,
              "#fdca26"
             ],
             [
              1,
              "#f0f921"
             ]
            ],
            "type": "histogram2d"
           }
          ],
          "histogram2dcontour": [
           {
            "colorbar": {
             "outlinewidth": 0,
             "ticks": ""
            },
            "colorscale": [
             [
              0,
              "#0d0887"
             ],
             [
              0.1111111111111111,
              "#46039f"
             ],
             [
              0.2222222222222222,
              "#7201a8"
             ],
             [
              0.3333333333333333,
              "#9c179e"
             ],
             [
              0.4444444444444444,
              "#bd3786"
             ],
             [
              0.5555555555555556,
              "#d8576b"
             ],
             [
              0.6666666666666666,
              "#ed7953"
             ],
             [
              0.7777777777777778,
              "#fb9f3a"
             ],
             [
              0.8888888888888888,
              "#fdca26"
             ],
             [
              1,
              "#f0f921"
             ]
            ],
            "type": "histogram2dcontour"
           }
          ],
          "mesh3d": [
           {
            "colorbar": {
             "outlinewidth": 0,
             "ticks": ""
            },
            "type": "mesh3d"
           }
          ],
          "parcoords": [
           {
            "line": {
             "colorbar": {
              "outlinewidth": 0,
              "ticks": ""
             }
            },
            "type": "parcoords"
           }
          ],
          "pie": [
           {
            "automargin": true,
            "type": "pie"
           }
          ],
          "scatter": [
           {
            "fillpattern": {
             "fillmode": "overlay",
             "size": 10,
             "solidity": 0.2
            },
            "type": "scatter"
           }
          ],
          "scatter3d": [
           {
            "line": {
             "colorbar": {
              "outlinewidth": 0,
              "ticks": ""
             }
            },
            "marker": {
             "colorbar": {
              "outlinewidth": 0,
              "ticks": ""
             }
            },
            "type": "scatter3d"
           }
          ],
          "scattercarpet": [
           {
            "marker": {
             "colorbar": {
              "outlinewidth": 0,
              "ticks": ""
             }
            },
            "type": "scattercarpet"
           }
          ],
          "scattergeo": [
           {
            "marker": {
             "colorbar": {
              "outlinewidth": 0,
              "ticks": ""
             }
            },
            "type": "scattergeo"
           }
          ],
          "scattergl": [
           {
            "marker": {
             "colorbar": {
              "outlinewidth": 0,
              "ticks": ""
             }
            },
            "type": "scattergl"
           }
          ],
          "scattermapbox": [
           {
            "marker": {
             "colorbar": {
              "outlinewidth": 0,
              "ticks": ""
             }
            },
            "type": "scattermapbox"
           }
          ],
          "scatterpolar": [
           {
            "marker": {
             "colorbar": {
              "outlinewidth": 0,
              "ticks": ""
             }
            },
            "type": "scatterpolar"
           }
          ],
          "scatterpolargl": [
           {
            "marker": {
             "colorbar": {
              "outlinewidth": 0,
              "ticks": ""
             }
            },
            "type": "scatterpolargl"
           }
          ],
          "scatterternary": [
           {
            "marker": {
             "colorbar": {
              "outlinewidth": 0,
              "ticks": ""
             }
            },
            "type": "scatterternary"
           }
          ],
          "surface": [
           {
            "colorbar": {
             "outlinewidth": 0,
             "ticks": ""
            },
            "colorscale": [
             [
              0,
              "#0d0887"
             ],
             [
              0.1111111111111111,
              "#46039f"
             ],
             [
              0.2222222222222222,
              "#7201a8"
             ],
             [
              0.3333333333333333,
              "#9c179e"
             ],
             [
              0.4444444444444444,
              "#bd3786"
             ],
             [
              0.5555555555555556,
              "#d8576b"
             ],
             [
              0.6666666666666666,
              "#ed7953"
             ],
             [
              0.7777777777777778,
              "#fb9f3a"
             ],
             [
              0.8888888888888888,
              "#fdca26"
             ],
             [
              1,
              "#f0f921"
             ]
            ],
            "type": "surface"
           }
          ],
          "table": [
           {
            "cells": {
             "fill": {
              "color": "#EBF0F8"
             },
             "line": {
              "color": "white"
             }
            },
            "header": {
             "fill": {
              "color": "#C8D4E3"
             },
             "line": {
              "color": "white"
             }
            },
            "type": "table"
           }
          ]
         },
         "layout": {
          "annotationdefaults": {
           "arrowcolor": "#2a3f5f",
           "arrowhead": 0,
           "arrowwidth": 1
          },
          "autotypenumbers": "strict",
          "coloraxis": {
           "colorbar": {
            "outlinewidth": 0,
            "ticks": ""
           }
          },
          "colorscale": {
           "diverging": [
            [
             0,
             "#8e0152"
            ],
            [
             0.1,
             "#c51b7d"
            ],
            [
             0.2,
             "#de77ae"
            ],
            [
             0.3,
             "#f1b6da"
            ],
            [
             0.4,
             "#fde0ef"
            ],
            [
             0.5,
             "#f7f7f7"
            ],
            [
             0.6,
             "#e6f5d0"
            ],
            [
             0.7,
             "#b8e186"
            ],
            [
             0.8,
             "#7fbc41"
            ],
            [
             0.9,
             "#4d9221"
            ],
            [
             1,
             "#276419"
            ]
           ],
           "sequential": [
            [
             0,
             "#0d0887"
            ],
            [
             0.1111111111111111,
             "#46039f"
            ],
            [
             0.2222222222222222,
             "#7201a8"
            ],
            [
             0.3333333333333333,
             "#9c179e"
            ],
            [
             0.4444444444444444,
             "#bd3786"
            ],
            [
             0.5555555555555556,
             "#d8576b"
            ],
            [
             0.6666666666666666,
             "#ed7953"
            ],
            [
             0.7777777777777778,
             "#fb9f3a"
            ],
            [
             0.8888888888888888,
             "#fdca26"
            ],
            [
             1,
             "#f0f921"
            ]
           ],
           "sequentialminus": [
            [
             0,
             "#0d0887"
            ],
            [
             0.1111111111111111,
             "#46039f"
            ],
            [
             0.2222222222222222,
             "#7201a8"
            ],
            [
             0.3333333333333333,
             "#9c179e"
            ],
            [
             0.4444444444444444,
             "#bd3786"
            ],
            [
             0.5555555555555556,
             "#d8576b"
            ],
            [
             0.6666666666666666,
             "#ed7953"
            ],
            [
             0.7777777777777778,
             "#fb9f3a"
            ],
            [
             0.8888888888888888,
             "#fdca26"
            ],
            [
             1,
             "#f0f921"
            ]
           ]
          },
          "colorway": [
           "#636efa",
           "#EF553B",
           "#00cc96",
           "#ab63fa",
           "#FFA15A",
           "#19d3f3",
           "#FF6692",
           "#B6E880",
           "#FF97FF",
           "#FECB52"
          ],
          "font": {
           "color": "#2a3f5f"
          },
          "geo": {
           "bgcolor": "white",
           "lakecolor": "white",
           "landcolor": "#E5ECF6",
           "showlakes": true,
           "showland": true,
           "subunitcolor": "white"
          },
          "hoverlabel": {
           "align": "left"
          },
          "hovermode": "closest",
          "mapbox": {
           "style": "light"
          },
          "paper_bgcolor": "white",
          "plot_bgcolor": "#E5ECF6",
          "polar": {
           "angularaxis": {
            "gridcolor": "white",
            "linecolor": "white",
            "ticks": ""
           },
           "bgcolor": "#E5ECF6",
           "radialaxis": {
            "gridcolor": "white",
            "linecolor": "white",
            "ticks": ""
           }
          },
          "scene": {
           "xaxis": {
            "backgroundcolor": "#E5ECF6",
            "gridcolor": "white",
            "gridwidth": 2,
            "linecolor": "white",
            "showbackground": true,
            "ticks": "",
            "zerolinecolor": "white"
           },
           "yaxis": {
            "backgroundcolor": "#E5ECF6",
            "gridcolor": "white",
            "gridwidth": 2,
            "linecolor": "white",
            "showbackground": true,
            "ticks": "",
            "zerolinecolor": "white"
           },
           "zaxis": {
            "backgroundcolor": "#E5ECF6",
            "gridcolor": "white",
            "gridwidth": 2,
            "linecolor": "white",
            "showbackground": true,
            "ticks": "",
            "zerolinecolor": "white"
           }
          },
          "shapedefaults": {
           "line": {
            "color": "#2a3f5f"
           }
          },
          "ternary": {
           "aaxis": {
            "gridcolor": "white",
            "linecolor": "white",
            "ticks": ""
           },
           "baxis": {
            "gridcolor": "white",
            "linecolor": "white",
            "ticks": ""
           },
           "bgcolor": "#E5ECF6",
           "caxis": {
            "gridcolor": "white",
            "linecolor": "white",
            "ticks": ""
           }
          },
          "title": {
           "x": 0.05
          },
          "xaxis": {
           "automargin": true,
           "gridcolor": "white",
           "linecolor": "white",
           "ticks": "",
           "title": {
            "standoff": 15
           },
           "zerolinecolor": "white",
           "zerolinewidth": 2
          },
          "yaxis": {
           "automargin": true,
           "gridcolor": "white",
           "linecolor": "white",
           "ticks": "",
           "title": {
            "standoff": 15
           },
           "zerolinecolor": "white",
           "zerolinewidth": 2
          }
         }
        },
        "title": {
         "text": "Random Forest ROC Curve on Validation Set"
        },
        "xaxis": {
         "title": {
          "text": "False Positive Rate"
         }
        },
        "yaxis": {
         "title": {
          "text": "True Positive Rate"
         }
        }
       }
      }
     },
     "metadata": {},
     "output_type": "display_data"
    }
   ],
   "source": [
    "\n",
    "x_train = train_df[[predictor_variable]]\n",
    "y_train = train_df[response_variable]\n",
    "\n",
    "# Training the Random Forest model\n",
    "rf_model = RandomForestClassifier(n_estimators=100, random_state=42)\n",
    "rf_model.fit(x_train, y_train)\n",
    "\n",
    "# Making predictions\n",
    "y_pred = rf_model.predict(x_train)\n",
    "\n",
    "# Calculating the confusion matrix and other metrics\n",
    "c_m = confusion_matrix(y_train, y_pred)\n",
    "print(\"Confusion Matrix:\")\n",
    "print(c_m)\n",
    "\n",
    "accuracy = accuracy_score(y_train, y_pred)\n",
    "prediction_error = 1 - accuracy\n",
    "true_positive_rate = recall_score(y_train, y_pred)  # TPR\n",
    "true_negative_rate = recall_score(y_train, y_pred, pos_label=0)  # TNR\n",
    "f1 = f1_score(y_train, y_pred)  # F1 Score\n",
    "\n",
    "print(f\"\\nAccuracy: {accuracy}\")\n",
    "print(f\"Prediction Error: {prediction_error}\")\n",
    "print(f\"True Positive Rate (TPR): {true_positive_rate}\")\n",
    "print(f\"True Negative Rate (TNR): {true_negative_rate}\")\n",
    "print(f\"F1 Score: {f1}\")\n",
    "\n",
    "# 5-fold cross-validation on validation set\n",
    "X_val = validation_df[[predictor_variable]]\n",
    "y_val = validation_df[response_variable]\n",
    "cv = StratifiedKFold(n_splits=5, shuffle=True, random_state=42)\n",
    "\n",
    "# Calculate AUC, accuracy and F1 across the folds\n",
    "auc_scores = cross_val_score(rf_model, X_val, y_val, cv=cv, scoring='roc_auc')\n",
    "accuracy_scores = cross_val_score(rf_model, X_val, y_val, cv=cv, scoring='accuracy')\n",
    "f1_scores = cross_val_score(rf_model, X_val, y_val, cv=cv, scoring='f1')\n",
    "\n",
    "print(\"\\nAUC Scores for each fold:\", auc_scores)\n",
    "print(\"Average AUC:\", np.mean(auc_scores))\n",
    "print(\"Accuracy Scores for each fold:\", accuracy_scores)\n",
    "print(\"Average Accuracy:\", np.mean(accuracy_scores))\n",
    "print(\"F1 Scores for each fold:\", f1_scores)\n",
    "print(\"Average F1:\", np.mean(f1_scores))\n",
    "\n",
    "# Plot AUC curve\n",
    "rf_model.fit(X_val, y_val)  # Fit model to validation data for ROC curve plotting\n",
    "y_val_proba = rf_model.predict_proba(X_val)[:, 1]  # Probability of the positive class\n",
    "\n",
    "# Calculate ROC curve and AUC\n",
    "fpr, tpr, thresholds = roc_curve(y_val, y_val_proba)\n",
    "auc = roc_auc_score(y_val, y_val_proba)\n",
    "\n",
    "fig = go.Figure()\n",
    "\n",
    "fig.add_trace(go.Scatter(x=fpr, y=tpr, mode='lines', name=f'ROC Curve (AUC = {auc:.2f})'))\n",
    "fig.add_trace(go.Scatter(x=[0, 1], y=[0, 1], mode='lines', line=dict(dash='dash'), name='Random'))\n",
    "\n",
    "fig.update_layout(\n",
    "    title=\"Random Forest ROC Curve on Validation Set\",\n",
    "    xaxis_title=\"False Positive Rate\",\n",
    "    yaxis_title=\"True Positive Rate\",\n",
    "    showlegend=True\n",
    ")\n",
    "\n",
    "fig.show()\n"
   ]
  },
  {
   "cell_type": "markdown",
   "metadata": {},
   "source": []
  }
 ],
 "metadata": {
  "kernelspec": {
   "display_name": "Python 3",
   "language": "python",
   "name": "python3"
  },
  "language_info": {
   "codemirror_mode": {
    "name": "ipython",
    "version": 3
   },
   "file_extension": ".py",
   "mimetype": "text/x-python",
   "name": "python",
   "nbconvert_exporter": "python",
   "pygments_lexer": "ipython3",
   "version": "3.11.4"
  }
 },
 "nbformat": 4,
 "nbformat_minor": 2
}
