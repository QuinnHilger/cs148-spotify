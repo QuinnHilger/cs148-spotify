{
  "nbformat": 4,
  "nbformat_minor": 0,
  "metadata": {
    "colab": {
      "provenance": []
    },
    "kernelspec": {
      "name": "python3",
      "display_name": "Python 3"
    },
    "language_info": {
      "name": "python"
    }
  },
  "cells": [
    {
      "cell_type": "markdown",
      "source": [
        "# Predicting Academic Outcomes\n",
        "The following python notebook describes the code involved in data pre-processing, training of linear regression model, evaluating performance, and concluding with coefficients and plot of predicted scores."
      ],
      "metadata": {
        "id": "hoQAaY2zPhhz"
      }
    },
    {
      "cell_type": "code",
      "execution_count": 1,
      "metadata": {
        "id": "sgQSybU7PJBh"
      },
      "outputs": [],
      "source": [
        "import pandas as pd\n",
        "import numpy as np\n",
        "import matplotlib.pyplot as plt\n",
        "from sklearn.model_selection import train_test_split\n",
        "from sklearn.linear_model import LinearRegression\n",
        "from sklearn.metrics import mean_squared_error, r2_score, mean_absolute_error\n",
        "from sklearn.model_selection import cross_val_score, KFold\n",
        "from sklearn.linear_model import Ridge\n",
        "from sklearn.linear_model import Lasso\n",
        "from sklearn.preprocessing import StandardScaler\n"
      ]
    },
    {
      "cell_type": "markdown",
      "source": [
        "# Data Processing\n",
        "Through exploratory data analysis, we found the 8 features that had a higher correlation with Exam Score than the others:\n",
        "\n",
        "*   Hours Studied\n",
        "*   Attendance\n",
        "*   Parental Involvement\n",
        "*   Access to Resources\n",
        "*   Previous Scores\n",
        "*   Learning Disability\n",
        "*   Distance from Home\n",
        "*   Tutoring Sessions\n",
        "\n",
        "We then narrowed down the dataset to these main features.\n",
        "\n",
        "There were only a total of 67 NaN values, so we could simply drop these data points instead of having to use imputation.\n",
        "\n",
        "Finally, we had to convert our categorical variables to have numeric values for linear regression.\n",
        "\n",
        "After these data processing steps, our dataset was ready for regression, so we split the dataset into 80% train, 10% validation, 10% test. We arrived at these splits because we had no problems with overfitting in any iteration of this model."
      ],
      "metadata": {
        "id": "eOw3MdZQP0k5"
      }
    },
    {
      "cell_type": "code",
      "source": [
        "# Data Cleaning attempts (Missingness and Imputation)\n",
        "data = pd.read_csv(\"/content/StudentPerformanceFactors.csv\")\n",
        "\n",
        "# Clean the CSV to only use the features we plan to analyze, as well as the response variable\n",
        "\n",
        "main_features = ['Hours_Studied', 'Attendance', 'Previous_Scores', 'Parental_Involvement', 'Learning_Disabilities', 'Access_to_Resources', 'Distance_from_Home', 'Tutoring_Sessions', 'Exam_Score']\n",
        "\n",
        "data = data[main_features]\n",
        "\n",
        "# Searched data for missing values and confirmed all cells were complete\n",
        "print(\"columns and how many null values\")\n",
        "print(data.isnull().sum())\n",
        "\n",
        "# Check for any negative values\n",
        "# Select only numeric columns\n",
        "numeric_cols = data.select_dtypes(include=['number'])\n",
        "\n",
        "# Check for negative values in each numeric column\n",
        "print(\"numeric columns\", numeric_cols.columns)\n",
        "negative_counts = (numeric_cols < 0).sum()\n",
        "\n",
        "# Display columns with negative values\n",
        "print(\"Count of Negative Values in Each Numeric Column:\")\n",
        "print(len(negative_counts[negative_counts > 0]))  # Only show columns with negative values\n",
        "\n",
        "# From the above we can see that Distance From Home has some invalid cells\n",
        "null_distance_rows = data[data['Distance_from_Home'].isnull()]\n",
        "\n",
        "# We can confirm that some rows are coming up with NAN\n",
        "\n",
        "# Get all unique values in 'Distance_from_Home' column\n",
        "unique_values = data['Distance_from_Home'].unique()\n",
        "\n",
        "# Print the unique values\n",
        "print(unique_values)\n",
        "\n",
        "# Clean the dataset by removing these rows\n",
        "# row removal makes the most sense since no alternative value makes sense in the context of distance from home\n",
        "# Additionally, the number of rows removed (67) is insignificant as it is ~1% of our rows\n",
        "\n",
        "data = data.dropna(subset=['Distance_from_Home'])\n",
        "\n",
        "# Test again to confirm no NAN rows are left\n",
        "\n",
        "print(data.isnull().sum())\n",
        "\n",
        "# Convert categorical variables into numeric values\n",
        "low_med_high = {\n",
        "    'Low': 1,\n",
        "    'Medium': 2,\n",
        "    'High': 3\n",
        "}\n",
        "\n",
        "yes_no = {\n",
        "    'Yes': 1,\n",
        "    'No': 0\n",
        "}\n",
        "\n",
        "near_moderate_far = {\n",
        "    'Near': 1,\n",
        "    'Moderate': 2,\n",
        "    'Far': 3\n",
        "}\n",
        "\n",
        "data['Parental_Involvement'] = data['Parental_Involvement'].map(low_med_high)\n",
        "data['Access_to_Resources'] = data['Access_to_Resources'].map(low_med_high)\n",
        "data['Learning_Disabilities'] = data['Learning_Disabilities'].map(yes_no)\n",
        "data['Distance_from_Home'] = data['Distance_from_Home'].map(near_moderate_far)\n",
        "print(data.shape)\n",
        "\n",
        "# Split the dataset into train, validation, and test\n",
        "train_and_validation_df, test_df = train_test_split(data, test_size=0.1, random_state=2)\n",
        "\n",
        "train_df, validation_df = train_test_split(train_and_validation_df, test_size=1/9, random_state=112)\n",
        "# x values will be all features, and y will be the response variable, Exam Score\n",
        "x_train = train_df.drop('Exam_Score', axis=1)\n",
        "y_train = train_df['Exam_Score']\n",
        "\n",
        "x_val = validation_df.drop('Exam_Score', axis=1)\n",
        "y_val = validation_df['Exam_Score']\n",
        "\n",
        "x_test = test_df.drop('Exam_Score', axis=1)\n",
        "y_test = test_df['Exam_Score']\n",
        "\n"
      ],
      "metadata": {
        "id": "ox3s9NzPQCwm",
        "colab": {
          "base_uri": "https://localhost:8080/"
        },
        "outputId": "278337d8-cf66-4270-da7e-f70cf4899d86"
      },
      "execution_count": 2,
      "outputs": [
        {
          "output_type": "stream",
          "name": "stdout",
          "text": [
            "columns and how many null values\n",
            "Hours_Studied             0\n",
            "Attendance                0\n",
            "Previous_Scores           0\n",
            "Parental_Involvement      0\n",
            "Learning_Disabilities     0\n",
            "Access_to_Resources       0\n",
            "Distance_from_Home       67\n",
            "Tutoring_Sessions         0\n",
            "Exam_Score                0\n",
            "dtype: int64\n",
            "numeric columns Index(['Hours_Studied', 'Attendance', 'Previous_Scores', 'Tutoring_Sessions',\n",
            "       'Exam_Score'],\n",
            "      dtype='object')\n",
            "Count of Negative Values in Each Numeric Column:\n",
            "0\n",
            "['Near' 'Moderate' 'Far' nan]\n",
            "Hours_Studied            0\n",
            "Attendance               0\n",
            "Previous_Scores          0\n",
            "Parental_Involvement     0\n",
            "Learning_Disabilities    0\n",
            "Access_to_Resources      0\n",
            "Distance_from_Home       0\n",
            "Tutoring_Sessions        0\n",
            "Exam_Score               0\n",
            "dtype: int64\n",
            "(6540, 9)\n"
          ]
        }
      ]
    },
    {
      "cell_type": "markdown",
      "source": [
        "# Linear Regression\n",
        "At this stage, we trained our linear regression model on the training set and evaluated it on the validation set. The coefficients found by the model are about the same magnitude, so this confirms that we do not need to standardize the dataset."
      ],
      "metadata": {
        "id": "112U0xGARGeG"
      }
    },
    {
      "cell_type": "code",
      "source": [
        "# Create and train a linear regression model\n",
        "model = LinearRegression()\n",
        "model.fit(x_train, y_train)\n",
        "# Evaluate the model on the validation set\n",
        "y_pred = model.predict(x_val)\n",
        "\n",
        "mse = mean_squared_error(y_val, y_pred)\n",
        "mad = mean_absolute_error(y_val, y_pred)\n",
        "r2 = r2_score(y_val, y_pred)\n",
        "corr = np.corrcoef(y_val, y_pred)[0, 1]\n",
        "\n",
        "coefficients = model.coef_\n",
        "intercept = model.intercept_\n",
        "\n",
        "print(\"Coefficients:\", coefficients)\n",
        "print(\"Intercept:\", intercept)\n",
        "\n",
        "print(f\"Mean Squared Error: {mse}\")\n",
        "print(f\"Mean Absolute Deviation: {mad}\")\n",
        "print(f\"R-squared: {r2}\")\n",
        "print(f\"Correlation: {corr}\")"
      ],
      "metadata": {
        "id": "vrKOH2pHRett",
        "colab": {
          "base_uri": "https://localhost:8080/"
        },
        "outputId": "75322aa0-c70e-4010-f0f1-5666424d3b1e"
      },
      "execution_count": 7,
      "outputs": [
        {
          "output_type": "stream",
          "name": "stdout",
          "text": [
            "Coefficients: [ 0.29271248  0.1985873   0.04826455  1.00194689 -0.77454866  0.97798462\n",
            " -0.49059927  0.49216206]\n",
            "Intercept: 37.8354519335643\n",
            "Mean Squared Error: 4.969473150288048\n",
            "Mean Absolute Deviation: 0.9269585992170106\n",
            "R-squared: 0.6798258955816602\n",
            "Correlation: 0.8249740498235297\n"
          ]
        }
      ]
    },
    {
      "cell_type": "markdown",
      "source": [
        "# Cross Validation\n",
        "After training and testing the model on the validation set, we performed k fold cross validation to ensure we are not overfitting the data. This is used to perform further evaluation without contaminating the testing dataset. The metrics of our cross validation testing maintain similar performance to the single validation set testing used above, giving us evidence that we are not overfitting our training data."
      ],
      "metadata": {
        "id": "7fOucc5OKZL9"
      }
    },
    {
      "cell_type": "code",
      "source": [
        "# Define the KFold cross-validation\n",
        "kf = KFold(n_splits=5, shuffle=True, random_state=21)\n",
        "\n",
        "# Perform cross-validation\n",
        "mse_scores = cross_val_score(model, x_train, y_train, cv=kf, scoring='neg_mean_squared_error')\n",
        "r2_scores = cross_val_score(model, x_train, y_train, cv=kf, scoring='r2')\n",
        "mad_scores = cross_val_score(model, x_train, y_train, cv=kf, scoring='neg_mean_absolute_error')\n",
        "\n",
        "# Since cross_val_score gives negative values for MSE and MAD, we convert them back to positive\n",
        "mse_scores = -mse_scores\n",
        "mad_scores = -mad_scores\n",
        "\n",
        "# Print the results\n",
        "print(\"Mean MSE: \", np.mean(mse_scores))\n",
        "print(\"Mean R^2: \", np.mean(r2_scores))\n",
        "print(\"Mean MAD: \", np.mean(mad_scores))"
      ],
      "metadata": {
        "colab": {
          "base_uri": "https://localhost:8080/"
        },
        "id": "Foy-7zi8KpGs",
        "outputId": "17b0cbb6-7870-4e41-a789-f9b10d4ce79a"
      },
      "execution_count": 8,
      "outputs": [
        {
          "output_type": "stream",
          "name": "stdout",
          "text": [
            "Mean MSE:  5.297854759101582\n",
            "Mean R^2:  0.6578206575841226\n",
            "Mean MAD:  0.9642121873190612\n"
          ]
        }
      ]
    },
    {
      "cell_type": "markdown",
      "source": [
        "# Evaluation Metrics\n",
        "Below are the evaluation metrics for our linear regression model. All metrics show a very good model, especially MAE showing that our predictions are within 1 point of the actual score on average."
      ],
      "metadata": {
        "id": "Aj6y3vbVRlNV"
      }
    },
    {
      "cell_type": "code",
      "source": [
        "y_pred = model.predict(x_test)\n",
        "# Calculate metrics on test set\n",
        "mse = mean_squared_error(y_test, y_pred)\n",
        "r2 = r2_score(y_test, y_pred)\n",
        "corr = np.corrcoef(y_test, y_pred)[0, 1]\n",
        "mae = mean_absolute_error(y_test, y_pred)\n",
        "rMSE = np.sqrt(mse)\n",
        "\n",
        "print(f\"Mean Squared Error: {mse}\")\n",
        "print(f\"Root Mean Squared Error: {rMSE}\")\n",
        "print(f\"R-squared: {r2}\")\n",
        "print(f\"Correlation: {corr}\")\n",
        "print(f\"Mean Absolute Error: {mae}\")"
      ],
      "metadata": {
        "id": "45a2k1NnRvdt",
        "colab": {
          "base_uri": "https://localhost:8080/"
        },
        "outputId": "d23358f6-a9be-405e-b1c5-8f28ad232cb0"
      },
      "execution_count": null,
      "outputs": [
        {
          "output_type": "stream",
          "name": "stdout",
          "text": [
            "Mean Squared Error: 3.0407820007661672\n",
            "Root Mean Squared Error: 1.7437838170960778\n",
            "R-squared: 0.7542948881539701\n",
            "Correlation: 0.869012941647217\n",
            "Mean Absolute Error: 0.8833794580784933\n"
          ]
        }
      ]
    },
    {
      "cell_type": "code",
      "source": [
        "# Visualize the model with a scatterplot\n",
        "\n",
        "plt.scatter(y_test, y_pred)\n",
        "plt.plot([min(y_test), max(y_test)], [min(y_test), max(y_test)], 'r--')\n",
        "plt.xlabel(\"Actual Exam Score\")\n",
        "plt.ylabel(\"Predicted Exam Score\")\n",
        "plt.title(\"Actual vs. Predicted Exam Scores\")\n",
        "plt.show()"
      ],
      "metadata": {
        "colab": {
          "base_uri": "https://localhost:8080/",
          "height": 472
        },
        "id": "Fiiv4oGVq17B",
        "outputId": "58f4d466-134f-40c4-82da-a070f628f6e5"
      },
      "execution_count": null,
      "outputs": [
        {
          "output_type": "display_data",
          "data": {
            "text/plain": [
              "<Figure size 640x480 with 1 Axes>"
            ],
            "image/png": "[encoded data removed]"
          },
          "metadata": {}
        }
      ]
    },
    {
      "cell_type": "markdown",
      "source": [
        "Here is a scatterplot of our predicted values vs. the actual exam scores."
      ],
      "metadata": {
        "id": "gTvSRjqbrwS8"
      }
    },
    {
      "cell_type": "markdown",
      "source": [
        "# Final Model & Conclusion\n",
        "Show the coefficients multiplied by each feature to create the closed form that can be used for predicting test scores.\n",
        "\n",
        "The model used on the test set is on our normalized data, meaning we can now use the coefficient magnitude to analyze feature importance. A sorted list of each feature and its coefficient is described below.\n",
        "\n",
        "This allows us to conclude the significance of attendance and hours_studied in predicting exam score, as they positively impact the predicted exam score at a magnitude much greater than the other features."
      ],
      "metadata": {
        "id": "qO7u-0bcRv88"
      }
    },
    {
      "cell_type": "code",
      "source": [
        "scaler = StandardScaler()\n",
        "x_train_normalized = scaler.fit_transform(x_train)\n",
        "x_test_normalized = scaler.transform(x_test)\n",
        "model.fit(x_train_normalized, y_train)\n",
        "y_pred = model.predict(x_test_normalized)\n",
        "\n",
        "coefficients = model.coef_\n",
        "\n",
        "# Create a DataFrame with feature names and their corresponding coefficients\n",
        "coeff_df = pd.DataFrame({\n",
        "    'Feature': x_train.columns,\n",
        "    'Coefficient': coefficients\n",
        "})\n",
        "\n",
        "# Sort by absolute coefficient values\n",
        "coeff_df['Abs_Coefficient'] = coeff_df['Coefficient'].abs()\n",
        "coeff_df = coeff_df.sort_values(by='Abs_Coefficient', ascending=False)\n",
        "\n",
        "# Print the coefficients and feature names\n",
        "print(coeff_df[['Feature', 'Coefficient']])\n",
        "print(\"Intercept: \", model.intercept_)"
      ],
      "metadata": {
        "colab": {
          "base_uri": "https://localhost:8080/"
        },
        "id": "ZJDv8eLkrI0l",
        "outputId": "e5f628c1-c3ab-4cb4-8bbf-4e76ec8581bf"
      },
      "execution_count": null,
      "outputs": [
        {
          "output_type": "stream",
          "name": "stdout",
          "text": [
            "                 Feature  Coefficient\n",
            "1             Attendance     2.284973\n",
            "0          Hours_Studied     1.759526\n",
            "3   Parental_Involvement     0.696758\n",
            "2        Previous_Scores     0.695144\n",
            "5    Access_to_Resources     0.683066\n",
            "7      Tutoring_Sessions     0.607287\n",
            "6     Distance_from_Home    -0.331265\n",
            "4  Learning_Disabilities    -0.239832\n",
            "Intercept:  67.23241590214067\n"
          ]
        }
      ]
    }
  ]
}