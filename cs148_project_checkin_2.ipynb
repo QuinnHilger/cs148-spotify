{
  "nbformat": 4,
  "nbformat_minor": 0,
  "metadata": {
    "colab": {
      "provenance": []
    },
    "kernelspec": {
      "name": "python3",
      "display_name": "Python 3"
    },
    "language_info": {
      "name": "python"
    }
  },
  "cells": [
    {
      "cell_type": "code",
      "source": [
        "import pandas as pd\n",
        "import numpy as np\n",
        "import plotly.express as px\n",
        "import plotly.graph_objects as go\n",
        "import matplotlib.pyplot as plt\n",
        "from sklearn.model_selection import train_test_split\n",
        "from sklearn.metrics import mean_squared_error, mean_absolute_error, r2_score\n",
        "from sklearn.linear_model import LinearRegression\n",
        "\n",
        "complete_data = pd.read_csv(\"/content/StudentPerformanceFactors.csv\")"
      ],
      "metadata": {
        "id": "K1US26V4c7sQ"
      },
      "execution_count": 21,
      "outputs": []
    },
    {
      "cell_type": "markdown",
      "source": [
        "# Project Check-in 2\n",
        "\n",
        "**Non-Discrete Numeric Response Variable**\n",
        "  - Exam_Score\n",
        "\n",
        "**Predictor variables** (Chosen from EDA in check-in 1)\n",
        "  - Hours_Studied\n",
        "  - Attendance\n",
        "\n",
        "\n"
      ],
      "metadata": {
        "id": "OQm7XxVzayQy"
      }
    },
    {
      "cell_type": "code",
      "source": [
        "# First, take code from previous check-in to clean the data to have our get our updated data frame\n",
        "# Although during this regression modeling, we will only use a subset of these rows, they are all included to create our training, validation, and test data sets\\\n",
        "\n",
        "main_features = ['Hours_Studied', 'Attendance', 'Previous_Scores', 'Parental_Involvement', 'Learning_Disabilities', 'Access_to_Resources', 'Distance_from_Home', 'Tutoring_Sessions', 'Exam_Score']\n",
        "data = complete_data[main_features]\n",
        "data = data.dropna(subset=['Distance_from_Home'])\n",
        "\n",
        "# Next, divide the new dataframe into 3 different data sets using a 60:20:20 split\n",
        "# We chose 60:20:20 as opposed to 80:10:10 or somwhere in between to decrease the liklihood of overfitting, since the metrics used are potentially subseptible to overfitting\n",
        "\n",
        "\n",
        "train_and_validation_df, test_df = train_test_split(data, test_size=0.2, random_state=42)\n",
        "\n",
        "train_df, validation_df = train_test_split(train_and_validation_df, test_size=0.25, random_state=42)\n",
        "\n",
        "train_df.to_csv('Student_Performance_train.csv', index=False)\n",
        "validation_df.to_csv('Student_Performance_validation.csv', index=False)\n",
        "test_df.to_csv('Student_Performance_test.csv', index=False)\n"
      ],
      "metadata": {
        "id": "Wyou4P-ccawB"
      },
      "execution_count": 16,
      "outputs": []
    },
    {
      "cell_type": "markdown",
      "source": [
        "# Regression Modeling & Evaluation"
      ],
      "metadata": {
        "id": "2PY1xQ6PcRqR"
      }
    },
    {
      "cell_type": "code",
      "execution_count": 37,
      "metadata": {
        "colab": {
          "base_uri": "https://localhost:8080/"
        },
        "id": "5VyUktlpVNvB",
        "outputId": "16316333-4e64-4a7d-a88b-507c1aa7d4b0"
      },
      "outputs": [
        {
          "output_type": "stream",
          "name": "stdout",
          "text": [
            "Hours MSE: 12.489959637339545\n",
            "Attendance MSE: 10.1863752702403\n",
            "Multiple Linear MSE: 7.130350492920021\n",
            "\n",
            "Hours R2: 0.1892357052200484\n",
            "Attendance R2: 0.3387689310339925\n",
            "Multiple Linear R2: 0.5371455347506965\n",
            "\n",
            "Hours Correlation: 0.4350123046766012\n",
            "Attendance Correlation: 0.5820385992646815\n",
            "Multiple Linear Correlation: 0.7329021317684211\n"
          ]
        }
      ],
      "source": [
        "# First, split up the training and validation sets into our X and Y data frames\n",
        "\n",
        "x_train = train_df[[\"Hours_Studied\", \"Attendance\"]]\n",
        "y_train = train_df[\"Exam_Score\"]\n",
        "\n",
        "x_validation = validation_df[[\"Hours_Studied\", \"Attendance\"]]\n",
        "y_validation = validation_df[\"Exam_Score\"]\n",
        "\n",
        "# Create linear regression for each independent predictor\n",
        "ls_fit_hours = LinearRegression()\n",
        "ls_fit_hours.fit(x_train[[\"Hours_Studied\"]], y_train)\n",
        "\n",
        "ls_fit_attendance = LinearRegression()\n",
        "ls_fit_attendance.fit(x_train[[\"Attendance\"]], y_train)\n",
        "\n",
        "# Plot LS on top of scatter plot of hours_studied vs exam score\n",
        "fig = px.scatter(data, x='Hours_Studied', y='Exam_Score', title='Hours Studied vs Exam Score')\n",
        "fig.add_trace(go.Scatter(x=x_train['Hours_Studied'], y=ls_fit_hours.intercept_ + train_df['Hours_Studied'] * ls_fit_hours.coef_[0], mode='lines', name='Least Squares Fit'))\n",
        "# fig.show()\n",
        "\n",
        "# Plot LS on top of scatter plot of Attendance vs exam score\n",
        "fig = px.scatter(data, x='Attendance', y='Exam_Score', title='Attendance vs Exam Score')\n",
        "fig.add_trace(go.Scatter(x=x_train['Attendance'], y=ls_fit_attendance.intercept_ + train_df['Attendance'] * ls_fit_attendance.coef_[0], mode='lines', name='Least Squares Fit'))\n",
        "# fig.show()\n",
        "\n",
        "# Create model for multiple linear regression using least squares difference\n",
        "\n",
        "mls_fit = LinearRegression()\n",
        "mls_fit.fit(x_train, y_train)\n",
        "\n",
        "# Calculate metrics for training set on all 3 models\n",
        "hours_train_mse = mean_squared_error(y_train, ls_fit_hours.predict(x_train[[\"Hours_Studied\"]]))\n",
        "attendance_train_mse = mean_squared_error(y_train, ls_fit_attendance.predict(x_train[[\"Attendance\"]]))\n",
        "mls_train_mse = mean_squared_error(y_train, mls_fit.predict(x_train))\n",
        "\n",
        "hours_train_r2 = r2_score(y_train, ls_fit_hours.predict(x_train[[\"Hours_Studied\"]]))\n",
        "attendance_train_r2 = r2_score(y_train, ls_fit_attendance.predict(x_train[[\"Attendance\"]]))\n",
        "mls_train_r2 = r2_score(y_train, mls_fit.predict(x_train))\n",
        "\n",
        "hours_train_correlation = np.corrcoef(y_train, ls_fit_hours.predict(x_train[[\"Hours_Studied\"]]))[0, 1]\n",
        "attendance_train_correlation = np.corrcoef(y_train, ls_fit_attendance.predict(x_train[[\"Attendance\"]]))[0, 1]\n",
        "mls_train_correlation = np.corrcoef(y_train, mls_fit.predict(x_train))[0, 1]\n",
        "\n",
        "print(f\"Hours MSE: {hours_train_mse}\")\n",
        "print(f\"Attendance MSE: {attendance_train_mse}\")\n",
        "print(f\"Multiple Linear MSE: {mls_train_mse}\\n\")\n",
        "print(f\"Hours R2: {hours_train_r2}\")\n",
        "print(f\"Attendance R2: {attendance_train_r2}\")\n",
        "print(f\"Multiple Linear R2: {mls_train_r2}\\n\")\n",
        "print(f\"Hours Correlation: {hours_train_correlation}\")\n",
        "print(f\"Attendance Correlation: {attendance_train_correlation}\")\n",
        "print(f\"Multiple Linear Correlation: {mls_train_correlation}\")\n",
        "\n"
      ]
    },
    {
      "cell_type": "code",
      "source": [
        "# Evaluate metrics on validation set using training models\n",
        "\n",
        "ls_fit_hours_val_mse = mean_squared_error(y_validation, ls_fit_hours.predict(x_validation[[\"Hours_Studied\"]]))\n",
        "ls_fit_attendance_val_mse = mean_squared_error(y_validation, ls_fit_attendance.predict(x_validation[[\"Attendance\"]]))\n",
        "mls_fit_val_mse = mean_squared_error(y_validation, mls_fit.predict(x_validation))\n",
        "\n",
        "ls_fit_hours_val_r2 = r2_score(y_validation, ls_fit_hours.predict(x_validation[[\"Hours_Studied\"]]))\n",
        "ls_fit_attendance_val_r2 = r2_score(y_validation, ls_fit_attendance.predict(x_validation[[\"Attendance\"]]))\n",
        "mls_fit_val_r2 = r2_score(y_validation, mls_fit.predict(x_validation))\n",
        "\n",
        "ls_fit_hours_val_correlation = np.corrcoef(y_validation, ls_fit_hours.predict(x_validation[[\"Hours_Studied\"]]))[0, 1]\n",
        "ls_fit_attendance_val_correlation = np.corrcoef(y_validation, ls_fit_attendance.predict(x_validation[[\"Attendance\"]]))[0, 1]\n",
        "mls_fit_val_correlation = np.corrcoef(y_validation, mls_fit.predict(x_validation))[0, 1]\n",
        "\n",
        "print(f\"Hours MSE: {ls_fit_hours_val_mse}\")\n",
        "print(f\"Attendance MSE: {ls_fit_attendance_val_mse}\")\n",
        "print(f\"Multiple Linear MSE: {mls_fit_val_mse}\\n\")\n",
        "print(f\"Hours R2: {ls_fit_hours_val_r2}\")\n",
        "print(f\"Attendance R2: {ls_fit_attendance_val_r2}\")\n",
        "print(f\"Multiple Linear R2: {mls_fit_val_r2}\\n\")\n",
        "print(f\"Hours Correlation: {ls_fit_hours_val_correlation}\")\n",
        "print(f\"Attendance Correlation: {ls_fit_attendance_val_correlation}\")\n",
        "print(f\"Multiple Linear Correlation: {mls_fit_val_correlation}\")"
      ],
      "metadata": {
        "colab": {
          "base_uri": "https://localhost:8080/"
        },
        "id": "keA7NDx9mVdk",
        "outputId": "c1c96b0e-3d79-4c35-ebcf-2f52e53a1ca6"
      },
      "execution_count": 38,
      "outputs": [
        {
          "output_type": "stream",
          "name": "stdout",
          "text": [
            "Hours MSE: 11.259793379444265\n",
            "Attendance MSE: 9.481154435783322\n",
            "Multiple Linear MSE: 6.587955501190167\n",
            "\n",
            "Hours R2: 0.21112573206309848\n",
            "Attendance R2: 0.33573925269537863\n",
            "Multiple Linear R2: 0.5384401473396503\n",
            "\n",
            "Hours Correlation: 0.4596558521221392\n",
            "Attendance Correlation: 0.580086543878091\n",
            "Multiple Linear Correlation: 0.7354373741282756\n"
          ]
        }
      ]
    }
  ]
}